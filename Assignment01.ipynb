{
 "cells": [
  {
   "cell_type": "code",
   "execution_count": 8,
   "id": "0239f18d",
   "metadata": {},
   "outputs": [
    {
     "name": "stdout",
     "output_type": "stream",
     "text": [
      "Enter intial number of range: 0\n",
      "Enter final number of range: 50\n",
      "1  1  2  3  5  8  13  21  34  "
     ]
    }
   ],
   "source": [
    "# Que01: Write a Python program to get the Fibonacci series between 0 to 50\n",
    "# Answer:\n",
    "# fibonacci series\n",
    "num1= int(input(\"Enter intial number of range: \"))\n",
    "num2= int(input(\"Enter final number of range: \"))\n",
    "first= 0\n",
    "second= 1\n",
    "for kk in range(num1,num2):\n",
    "    save= first\n",
    "    first= second\n",
    "    second= save + second\n",
    "    print(first, end=\"  \")\n",
    "    if second>num2:\n",
    "        break"
   ]
  },
  {
   "cell_type": "code",
   "execution_count": 9,
   "id": "029c90a8",
   "metadata": {},
   "outputs": [
    {
     "name": "stdout",
     "output_type": "stream",
     "text": [
      "Enter the word: Edyoda\n",
      "adoydE\n"
     ]
    }
   ],
   "source": [
    "#Que02: Write a Python program that accepts a word from the user and reverse it.\n",
    "# Answer:\n",
    "word= input(\"Enter the word: \")\n",
    "rev_word= word[::-1]\n",
    "print(rev_word)"
   ]
  },
  {
   "cell_type": "code",
   "execution_count": 13,
   "id": "0da8b150",
   "metadata": {},
   "outputs": [
    {
     "name": "stdout",
     "output_type": "stream",
     "text": [
      "How many numbers you want to enter in series: 5\n",
      "Enter number 12\n",
      "Enter number 21\n",
      "Enter number 21\n",
      "Enter number 45\n",
      "Enter number 8\n",
      "[12, 21, 21, 45, 8]\n",
      "Total even numbers=  2\n",
      "Total odd numbers=  3\n"
     ]
    }
   ],
   "source": [
    "# Que03: Write a Python program to count the number of even and odd numbers from a series of numbers.\n",
    "# Answer\n",
    "series = []\n",
    "size = int(input(\"How many numbers you want to enter in series: \"))\n",
    "for i in range(size):\n",
    "    num= int(input(\"Enter number \"))\n",
    "    series.append(num)\n",
    "even= 0\n",
    "odd= 0\n",
    "for i in range(size):\n",
    "    if series[i]%2==0:\n",
    "        even= even+1\n",
    "    else:\n",
    "        odd= odd+1\n",
    "print(series)\n",
    "print(\"Total even numbers= \",even)\n",
    "print(\"Total odd numbers= \",odd)\n",
    "        \n"
   ]
  }
 ],
 "metadata": {
  "kernelspec": {
   "display_name": "Python 3 (ipykernel)",
   "language": "python",
   "name": "python3"
  },
  "language_info": {
   "codemirror_mode": {
    "name": "ipython",
    "version": 3
   },
   "file_extension": ".py",
   "mimetype": "text/x-python",
   "name": "python",
   "nbconvert_exporter": "python",
   "pygments_lexer": "ipython3",
   "version": "3.9.12"
  }
 },
 "nbformat": 4,
 "nbformat_minor": 5
}
